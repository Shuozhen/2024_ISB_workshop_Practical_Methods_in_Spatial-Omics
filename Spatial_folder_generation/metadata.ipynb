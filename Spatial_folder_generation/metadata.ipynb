{
 "cells": [
  {
   "cell_type": "markdown",
   "metadata": {},
   "source": [
    "### This script is for generating metadata files needed for Seurat workflow for spatial datasets"
   ]
  },
  {
   "cell_type": "markdown",
   "metadata": {},
   "source": [
    "workable 07/13/2023"
   ]
  },
  {
   "cell_type": "code",
   "execution_count": 1,
   "metadata": {},
   "outputs": [],
   "source": [
    "import xml.etree.ElementTree as ET\n",
    "import re\n",
    "import pandas as pd"
   ]
  },
  {
   "cell_type": "code",
   "execution_count": 3,
   "metadata": {},
   "outputs": [],
   "source": [
    "# Read image in svg format\n",
    "svg_file = './ME10.svg'\n",
    "svg = ET.parse(svg_file)\n",
    "root = svg.getroot()"
   ]
  },
  {
   "cell_type": "code",
   "execution_count": 13,
   "metadata": {},
   "outputs": [],
   "source": [
    "# Prepare tissue_positions_list.csv file that compatible with Seurat\n",
    "spots = pd.DataFrame(columns=['in_tissue', 'array_row','array_column', \n",
    "                              'pxl_col_in_fullres', 'pxl_row_in_fullres'])\n",
    "col_reversed = False\n",
    "\n",
    "spot_width = 0\n",
    "spot_height = 0\n",
    "\n",
    "for i, g in enumerate(root.findall(\"{http://www.w3.org/2000/svg}rect\")):\n",
    "    x = float(g.attrib['x'])\n",
    "    y = float(g.attrib['y'])\n",
    "    spot_width = float(g.attrib['width'])\n",
    "    spot_height = float(g.attrib['height'])\n",
    "    \n",
    "    if(g.attrib['class'] == 'st0'):\n",
    "        in_tissue = 1\n",
    "    else:\n",
    "        in_tissue = 0\n",
    "    \n",
    "    row = int(i/50)+1\n",
    "    col = int(i%50)+1\n",
    "    if(col_reversed == True):\n",
    "        col = 50-col+1\n",
    "    \n",
    "    x_c = x + spot_width/2\n",
    "    y_c = y + spot_height/2\n",
    "    \n",
    "    spots.loc[i] = [in_tissue, row - 1, col - 1, int(round(y_c)), int(round(x_c))]\n",
    "\n",
    "    #spots = spots.append({'in_tissue': in_tissue, 'array_row': row-1, 'array_column': col-1, \n",
    "                          #'pxl_col_in_fullres': int(round(y_c)), 'pxl_row_in_fullres': int(round(x_c))}, ignore_index=True)\n",
    "\n",
    "spots.index = (spots['array_column']+1).astype(int).astype(str) + 'x' + (spots['array_row']+1).astype(int).astype(str)"
   ]
  },
  {
   "cell_type": "code",
   "execution_count": 14,
   "metadata": {},
   "outputs": [],
   "source": [
    "# Read barcode.txt\n",
    "barcode_txt = './spatial_barcodes.txt'\n",
    "barcodes = pd.read_csv(barcode_txt, sep='\\t',  lineterminator='\\n', header=None)"
   ]
  },
  {
   "cell_type": "code",
   "execution_count": 15,
   "metadata": {},
   "outputs": [],
   "source": [
    "barcodes.columns = ['barcode', 'x', 'y']\n",
    "barcodes.index = barcodes['x'].astype(str) + 'x' + barcodes['y'].astype(str)\n",
    "barcodes = barcodes.drop(columns=['x', 'y'])"
   ]
  },
  {
   "cell_type": "code",
   "execution_count": 9,
   "metadata": {
    "scrolled": true
   },
   "outputs": [
    {
     "data": {
      "text/html": [
       "<div>\n",
       "<style scoped>\n",
       "    .dataframe tbody tr th:only-of-type {\n",
       "        vertical-align: middle;\n",
       "    }\n",
       "\n",
       "    .dataframe tbody tr th {\n",
       "        vertical-align: top;\n",
       "    }\n",
       "\n",
       "    .dataframe thead th {\n",
       "        text-align: right;\n",
       "    }\n",
       "</style>\n",
       "<table border=\"1\" class=\"dataframe\">\n",
       "  <thead>\n",
       "    <tr style=\"text-align: right;\">\n",
       "      <th></th>\n",
       "      <th>barcode</th>\n",
       "    </tr>\n",
       "  </thead>\n",
       "  <tbody>\n",
       "    <tr>\n",
       "      <th>1x1</th>\n",
       "      <td>AACGTGATAACGTGAT</td>\n",
       "    </tr>\n",
       "    <tr>\n",
       "      <th>1x2</th>\n",
       "      <td>AACGTGATAAACATCG</td>\n",
       "    </tr>\n",
       "    <tr>\n",
       "      <th>1x3</th>\n",
       "      <td>AACGTGATATGCCTAA</td>\n",
       "    </tr>\n",
       "    <tr>\n",
       "      <th>1x4</th>\n",
       "      <td>AACGTGATAGTGGTCA</td>\n",
       "    </tr>\n",
       "    <tr>\n",
       "      <th>1x5</th>\n",
       "      <td>AACGTGATACCACTGT</td>\n",
       "    </tr>\n",
       "  </tbody>\n",
       "</table>\n",
       "</div>"
      ],
      "text/plain": [
       "              barcode\n",
       "1x1  AACGTGATAACGTGAT\n",
       "1x2  AACGTGATAAACATCG\n",
       "1x3  AACGTGATATGCCTAA\n",
       "1x4  AACGTGATAGTGGTCA\n",
       "1x5  AACGTGATACCACTGT"
      ]
     },
     "execution_count": 9,
     "metadata": {},
     "output_type": "execute_result"
    }
   ],
   "source": [
    "barcodes.head()"
   ]
  },
  {
   "cell_type": "code",
   "execution_count": 10,
   "metadata": {},
   "outputs": [],
   "source": [
    "spots = pd.concat([barcodes, spots], axis=1)"
   ]
  },
  {
   "cell_type": "code",
   "execution_count": 11,
   "metadata": {},
   "outputs": [
    {
     "data": {
      "text/html": [
       "<div>\n",
       "<style scoped>\n",
       "    .dataframe tbody tr th:only-of-type {\n",
       "        vertical-align: middle;\n",
       "    }\n",
       "\n",
       "    .dataframe tbody tr th {\n",
       "        vertical-align: top;\n",
       "    }\n",
       "\n",
       "    .dataframe thead th {\n",
       "        text-align: right;\n",
       "    }\n",
       "</style>\n",
       "<table border=\"1\" class=\"dataframe\">\n",
       "  <thead>\n",
       "    <tr style=\"text-align: right;\">\n",
       "      <th></th>\n",
       "      <th>barcode</th>\n",
       "      <th>in_tissue</th>\n",
       "      <th>array_row</th>\n",
       "      <th>array_column</th>\n",
       "      <th>pxl_col_in_fullres</th>\n",
       "      <th>pxl_row_in_fullres</th>\n",
       "    </tr>\n",
       "  </thead>\n",
       "  <tbody>\n",
       "    <tr>\n",
       "      <th>1x1</th>\n",
       "      <td>AACGTGATAACGTGAT</td>\n",
       "      <td>0</td>\n",
       "      <td>0</td>\n",
       "      <td>0</td>\n",
       "      <td>135</td>\n",
       "      <td>138</td>\n",
       "    </tr>\n",
       "    <tr>\n",
       "      <th>1x2</th>\n",
       "      <td>AACGTGATAAACATCG</td>\n",
       "      <td>0</td>\n",
       "      <td>1</td>\n",
       "      <td>0</td>\n",
       "      <td>135</td>\n",
       "      <td>146</td>\n",
       "    </tr>\n",
       "    <tr>\n",
       "      <th>1x3</th>\n",
       "      <td>AACGTGATATGCCTAA</td>\n",
       "      <td>0</td>\n",
       "      <td>2</td>\n",
       "      <td>0</td>\n",
       "      <td>135</td>\n",
       "      <td>154</td>\n",
       "    </tr>\n",
       "    <tr>\n",
       "      <th>1x4</th>\n",
       "      <td>AACGTGATAGTGGTCA</td>\n",
       "      <td>0</td>\n",
       "      <td>3</td>\n",
       "      <td>0</td>\n",
       "      <td>135</td>\n",
       "      <td>162</td>\n",
       "    </tr>\n",
       "    <tr>\n",
       "      <th>1x5</th>\n",
       "      <td>AACGTGATACCACTGT</td>\n",
       "      <td>0</td>\n",
       "      <td>4</td>\n",
       "      <td>0</td>\n",
       "      <td>135</td>\n",
       "      <td>170</td>\n",
       "    </tr>\n",
       "  </tbody>\n",
       "</table>\n",
       "</div>"
      ],
      "text/plain": [
       "              barcode  in_tissue  array_row  array_column  pxl_col_in_fullres  \\\n",
       "1x1  AACGTGATAACGTGAT          0          0             0                 135   \n",
       "1x2  AACGTGATAAACATCG          0          1             0                 135   \n",
       "1x3  AACGTGATATGCCTAA          0          2             0                 135   \n",
       "1x4  AACGTGATAGTGGTCA          0          3             0                 135   \n",
       "1x5  AACGTGATACCACTGT          0          4             0                 135   \n",
       "\n",
       "     pxl_row_in_fullres  \n",
       "1x1                 138  \n",
       "1x2                 146  \n",
       "1x3                 154  \n",
       "1x4                 162  \n",
       "1x5                 170  "
      ]
     },
     "execution_count": 11,
     "metadata": {},
     "output_type": "execute_result"
    }
   ],
   "source": [
    "spots.head()"
   ]
  },
  {
   "cell_type": "code",
   "execution_count": 16,
   "metadata": {},
   "outputs": [
    {
     "name": "stdout",
     "output_type": "stream",
     "text": [
      "(2500, 5)\n"
     ]
    },
    {
     "data": {
      "text/html": [
       "<div>\n",
       "<style scoped>\n",
       "    .dataframe tbody tr th:only-of-type {\n",
       "        vertical-align: middle;\n",
       "    }\n",
       "\n",
       "    .dataframe tbody tr th {\n",
       "        vertical-align: top;\n",
       "    }\n",
       "\n",
       "    .dataframe thead th {\n",
       "        text-align: right;\n",
       "    }\n",
       "</style>\n",
       "<table border=\"1\" class=\"dataframe\">\n",
       "  <thead>\n",
       "    <tr style=\"text-align: right;\">\n",
       "      <th></th>\n",
       "      <th>in_tissue</th>\n",
       "      <th>array_row</th>\n",
       "      <th>array_column</th>\n",
       "      <th>pxl_col_in_fullres</th>\n",
       "      <th>pxl_row_in_fullres</th>\n",
       "    </tr>\n",
       "  </thead>\n",
       "  <tbody>\n",
       "    <tr>\n",
       "      <th>1x1</th>\n",
       "      <td>1</td>\n",
       "      <td>0</td>\n",
       "      <td>0</td>\n",
       "      <td>135</td>\n",
       "      <td>138</td>\n",
       "    </tr>\n",
       "    <tr>\n",
       "      <th>2x1</th>\n",
       "      <td>1</td>\n",
       "      <td>0</td>\n",
       "      <td>1</td>\n",
       "      <td>143</td>\n",
       "      <td>138</td>\n",
       "    </tr>\n",
       "    <tr>\n",
       "      <th>3x1</th>\n",
       "      <td>1</td>\n",
       "      <td>0</td>\n",
       "      <td>2</td>\n",
       "      <td>151</td>\n",
       "      <td>138</td>\n",
       "    </tr>\n",
       "    <tr>\n",
       "      <th>4x1</th>\n",
       "      <td>1</td>\n",
       "      <td>0</td>\n",
       "      <td>3</td>\n",
       "      <td>159</td>\n",
       "      <td>138</td>\n",
       "    </tr>\n",
       "    <tr>\n",
       "      <th>5x1</th>\n",
       "      <td>1</td>\n",
       "      <td>0</td>\n",
       "      <td>4</td>\n",
       "      <td>166</td>\n",
       "      <td>138</td>\n",
       "    </tr>\n",
       "  </tbody>\n",
       "</table>\n",
       "</div>"
      ],
      "text/plain": [
       "     in_tissue  array_row  array_column  pxl_col_in_fullres  \\\n",
       "1x1          1          0             0                 135   \n",
       "2x1          1          0             1                 143   \n",
       "3x1          1          0             2                 151   \n",
       "4x1          1          0             3                 159   \n",
       "5x1          1          0             4                 166   \n",
       "\n",
       "     pxl_row_in_fullres  \n",
       "1x1                 138  \n",
       "2x1                 138  \n",
       "3x1                 138  \n",
       "4x1                 138  \n",
       "5x1                 138  "
      ]
     },
     "execution_count": 16,
     "metadata": {},
     "output_type": "execute_result"
    }
   ],
   "source": [
    "# Select spots on tissue\n",
    "spots_tissue = spots.loc[spots['in_tissue'] == 1]\n",
    "print(spots_tissue.shape)\n",
    "spots_tissue.head()"
   ]
  },
  {
   "cell_type": "code",
   "execution_count": 10,
   "metadata": {},
   "outputs": [],
   "source": [
    "spots.to_csv('./tissue_positions_list.csv', index=False, header=False)"
   ]
  },
  {
   "cell_type": "code",
   "execution_count": 11,
   "metadata": {},
   "outputs": [],
   "source": [
    "# Generate scalefactors_json.json file\n",
    "import json\n",
    "\n",
    "scalefactors = {\"spot_diameter_fullres\": spot_width, \n",
    "                \"tissue_hires_scalef\": 1.0, \n",
    "                \"fiducial_diameter_fullres\": spot_width, \n",
    "                \"tissue_lowres_scalef\": 1.0}\n",
    "\n",
    "with open('./scalefactors_json.json', 'w') as outfile:\n",
    "    json.dump(scalefactors, outfile)"
   ]
  },
  {
   "cell_type": "code",
   "execution_count": null,
   "metadata": {},
   "outputs": [],
   "source": []
  }
 ],
 "metadata": {
  "kernelspec": {
   "display_name": "Python 3 (ipykernel)",
   "language": "python",
   "name": "python3"
  },
  "language_info": {
   "codemirror_mode": {
    "name": "ipython",
    "version": 3
   },
   "file_extension": ".py",
   "mimetype": "text/x-python",
   "name": "python",
   "nbconvert_exporter": "python",
   "pygments_lexer": "ipython3",
   "version": "3.11.3"
  }
 },
 "nbformat": 4,
 "nbformat_minor": 4
}
